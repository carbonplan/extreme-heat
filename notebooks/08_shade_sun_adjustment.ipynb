{
 "cells": [
  {
   "cell_type": "markdown",
   "id": "26d7aae3-fb5e-4a05-84d4-65ca11bfc713",
   "metadata": {},
   "source": [
    "# 08: Develop WBGT in the sun estimates\n",
    "*Combine the solar radiation and wind values from `07_solar_radiation_wind.ipynb` to develop an estimate of how much higher WBGT would be in the sun as compared to the shade at any given day and location. Apply those time- and space-varying adjstments to the WBGT in the shade estimates developed in `06_bias_correction.ipynb` to create estimates of WBGT in the sun.*"
   ]
  },
  {
   "cell_type": "code",
   "execution_count": null,
   "id": "f2911ee6-892b-4260-95d6-6763cf249310",
   "metadata": {
    "tags": []
   },
   "outputs": [],
   "source": [
    "import logging\n",
    "import warnings\n",
    "\n",
    "import numpy as np\n",
    "import pandas as pd\n",
    "import statsmodels.api as sm\n",
    "import xarray as xr\n",
    "from dask.distributed import Client\n",
    "from sklearn import linear_model\n",
    "from utils import clean_up_times, gcm_list\n",
    "\n",
    "warnings.filterwarnings(\"ignore\")"
   ]
  },
  {
   "cell_type": "markdown",
   "id": "b99fe0f3-6779-474f-857e-2bb30d177eef",
   "metadata": {},
   "source": [
    "Set up cluster to handle multiprocessing using a Dask client."
   ]
  },
  {
   "cell_type": "code",
   "execution_count": null,
   "id": "8e8ae9f5-95b8-424b-aed1-9a2efafa05bb",
   "metadata": {
    "tags": []
   },
   "outputs": [],
   "source": [
    "client = Client(threads_per_worker=1, n_workers=64, silence_logs=logging.ERROR)\n",
    "client"
   ]
  },
  {
   "cell_type": "code",
   "execution_count": null,
   "id": "f49a8276-6ed4-449b-adcf-2111c905c406",
   "metadata": {},
   "outputs": [],
   "source": [
    "def shade_sun_adjustment_model():\n",
    "    \"\"\"\n",
    "    Create linear model of the approximate difference between WBGT in the sun\n",
    "    and WBGT in the shade, as derived from Figure S12 in Kong and Huber (2022).\n",
    "    \"\"\"\n",
    "    X = np.array(\n",
    "        [\n",
    "            [300, 0.5],\n",
    "            [500, 0.5],\n",
    "            [700, 0.5],\n",
    "            [900, 0.5],\n",
    "            [300, 1],\n",
    "            [500, 1],\n",
    "            [700, 1],\n",
    "            [900, 1],\n",
    "            [300, 2],\n",
    "            [500, 2],\n",
    "            [700, 2],\n",
    "            [900, 2],\n",
    "            [300, 3],\n",
    "            [500, 3],\n",
    "            [700, 3],\n",
    "            [900, 3],\n",
    "        ]\n",
    "    )\n",
    "    y = np.array(\n",
    "        [-3, -5, -6, -7, -2, -3.5, -4.5, -6, -1.5, -2.5, -3.5, -4.5, -1.5, -2, -3, -3.5]\n",
    "    )\n",
    "    regr = linear_model.LinearRegression()\n",
    "    regr.fit(X, y)\n",
    "    X = sm.add_constant(X)\n",
    "    return sm.OLS(y, X).fit()"
   ]
  },
  {
   "cell_type": "code",
   "execution_count": null,
   "id": "78cc9030-0866-49fd-9287-37a2f3fc6ef0",
   "metadata": {
    "tags": []
   },
   "outputs": [],
   "source": [
    "scenario_years = [\n",
    "    (\"historical\", np.arange(1985, 2015)),\n",
    "    (\"ssp245\", np.arange(2015, 2061)),\n",
    "]"
   ]
  },
  {
   "cell_type": "markdown",
   "id": "d7a0a240-9c45-471a-93e9-832da4927e44",
   "metadata": {},
   "source": [
    "Set up a daily and subdaily template dataframe to use for all of the cities."
   ]
  },
  {
   "cell_type": "code",
   "execution_count": null,
   "id": "9efd5819-e83b-46a8-bbc2-66ff5193a761",
   "metadata": {
    "tags": []
   },
   "outputs": [],
   "source": [
    "def calc_wbgt_in_the_sun(wbgt_shade, adjustment_model, rsds, wind):\n",
    "    \"\"\"\n",
    "    Given maximum daily solar radiation and daily average wind, use the defined\n",
    "    WBGT adjustment model to calculate a time-varying adjustment. Apply that adjustment\n",
    "    to timeseries of WBGT in the shade to create timeseries of WBGT in the sun.\n",
    "    \"\"\"\n",
    "    df_daily = pd.DataFrame(index=pd.date_range(\"1985-01-01\", \"2059-12-31\")).drop(\n",
    "        pd.date_range(\"2015-01-01\", \"2019-12-31\")\n",
    "    )\n",
    "    # Adjust maximum radiation by 0.75 per Parsons et al (2021) to account for the\n",
    "    # fact that WBGT typically peaks a few hours after solar radiation peaks, when\n",
    "    # the solar radiation is ~75% of the peak\n",
    "    radiation_adjustment = 0.75\n",
    "    df_daily[\"rsds_max\"] = rsds * radiation_adjustment\n",
    "\n",
    "    df_daily[\"sfcWind\"] = wind\n",
    "    # where wind > 3 or < 0.5 clip to constrain to domain of the adjustment model\n",
    "    df_daily[\"sfcWind_adjusted\"] = df_daily[\"sfcWind\"].where(df_daily[\"sfcWind\"] < 3, 3)\n",
    "    df_daily[\"sfcWind_adjusted\"] = df_daily[\"sfcWind_adjusted\"].where(\n",
    "        df_daily[\"sfcWind_adjusted\"] > 0.5, 0.5\n",
    "    )\n",
    "    # where solar rad > 900 or < 300 clip to constrain to domain of the adjustment model\n",
    "    df_daily[\"rsds_max_adjusted\"] = df_daily[\"rsds_max\"].where(\n",
    "        df_daily[\"rsds_max\"] < 900, 900\n",
    "    )\n",
    "    df_daily[\"rsds_max_adjusted\"] = df_daily[\"rsds_max_adjusted\"].where(\n",
    "        df_daily[\"rsds_max_adjusted\"] > 300, 300\n",
    "    )\n",
    "    try:\n",
    "        df_daily[\"shade_sun_adjustment\"] = adjustment_model.predict(\n",
    "            sm.add_constant(df_daily[[\"rsds_max_adjusted\", \"sfcWind_adjusted\"]].values)\n",
    "        )\n",
    "    except ValueError:\n",
    "        df_daily[\"shade_sun_adjustment\"] = np.nan\n",
    "    wbgt_sun = wbgt_shade - df_daily[\"shade_sun_adjustment\"].values\n",
    "    return wbgt_sun"
   ]
  },
  {
   "cell_type": "markdown",
   "id": "1216c854-7ef8-4bf1-a58f-24479e91028b",
   "metadata": {},
   "source": [
    "Load the model to calculate how much cooler it is in the shade compared to the sun."
   ]
  },
  {
   "cell_type": "code",
   "execution_count": null,
   "id": "0acdcfd5-22e3-4d3f-af86-9ba37c621a86",
   "metadata": {
    "tags": []
   },
   "outputs": [],
   "source": [
    "adjustment_model = shade_sun_adjustment_model()"
   ]
  },
  {
   "cell_type": "markdown",
   "id": "65969399-262c-4ed9-aa1e-9d1942979e5d",
   "metadata": {},
   "source": [
    "Load wind, solar radiation, and WBGT in the shade estimates and create corresponding WBGT in the sun estimates."
   ]
  },
  {
   "cell_type": "code",
   "execution_count": null,
   "id": "01d5e14a-b847-41d7-bb27-6d01c822b79a",
   "metadata": {
    "tags": []
   },
   "outputs": [],
   "source": [
    "for gcm in gcm_list:\n",
    "    ds_historical = xr.open_zarr(\n",
    "        f\"s3://carbonplan-extreme-heat/temp/wbgt-shade-regions/\"\n",
    "        f\"{gcm}-historical-bc.zarr\"\n",
    "    )\n",
    "    ds_2030 = xr.open_zarr(\n",
    "        f\"s3://carbonplan-extreme-heat/temp/wbgt-shade-regions/\"\n",
    "        f\"{gcm}-ssp245-2030-bc.zarr\"\n",
    "    )\n",
    "    ds_2050 = xr.open_zarr(\n",
    "        f\"s3://carbonplan-extreme-heat/temp/wbgt-shade-regions/\"\n",
    "        f\"{gcm}-ssp245-2050-bc.zarr\"\n",
    "    )\n",
    "    wbgt_shade = xr.concat([ds_historical, ds_2030, ds_2050], dim=\"time\").chunk(\n",
    "        {\"time\": -1, \"processing_id\": 850}\n",
    "    )\n",
    "    wind = clean_up_times(\n",
    "        xr.open_zarr(\n",
    "            f\"s3://carbonplan-extreme-heat/temp/wind_solrad-regions/{gcm}-\"\n",
    "            \"wind-solrad-regions.zarr\"\n",
    "        )[[\"sfcWind\"]].sel(processing_id=wbgt_shade[\"scen\"].processing_id.values)\n",
    "    ).chunk({\"time\": -1, \"processing_id\": 850})\n",
    "    rsds = clean_up_times(\n",
    "        xr.open_zarr(\n",
    "            f\"s3://carbonplan-extreme-heat/temp/wind_solrad-regions/{gcm}-\"\n",
    "            \"rsds-max-regions.zarr\"\n",
    "        )[[\"rsds\"]].sel(processing_id=wbgt_shade[\"scen\"].processing_id.values)\n",
    "    ).chunk({\"time\": -1, \"processing_id\": 850})\n",
    "\n",
    "    out = xr.apply_ufunc(\n",
    "        calc_wbgt_in_the_sun,\n",
    "        wbgt_shade[\"scen\"],\n",
    "        adjustment_model,\n",
    "        rsds[\"rsds\"],\n",
    "        wind[\"sfcWind\"],\n",
    "        input_core_dims=[[\"time\"], [], [\"time\"], [\"time\"]],\n",
    "        output_core_dims=[[\"time\"]],\n",
    "        vectorize=True,\n",
    "        dask=\"parallelized\",\n",
    "        output_dtypes=[wbgt_shade[\"scen\"].dtype],\n",
    "    )\n",
    "    out = out.to_dataset(name=\"WBGT-sun\").chunk({\"processing_id\": 850, \"time\": -1})\n",
    "    out = out.to_zarr(\n",
    "        f\"s3://carbonplan-extreme-heat/temp/wbgt-sun-regions/wbgt-sun-{gcm}.zarr\",\n",
    "        mode=\"w\",\n",
    "        consolidated=True,\n",
    "    )"
   ]
  }
 ],
 "metadata": {
  "language_info": {
   "codemirror_mode": {
    "name": "ipython",
    "version": 3
   },
   "file_extension": ".py",
   "mimetype": "text/x-python",
   "name": "python",
   "nbconvert_exporter": "python",
   "pygments_lexer": "ipython3",
   "version": "3.10.12"
  }
 },
 "nbformat": 4,
 "nbformat_minor": 5
}
