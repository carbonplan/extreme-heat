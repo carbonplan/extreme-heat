{
 "cells": [
  {
   "cell_type": "markdown",
   "id": "430f6acc-3ab0-4073-9fe5-f2f1d28e3a58",
   "metadata": {
    "tags": []
   },
   "source": [
    "# Preparing explainer data\n",
    "This notebook contains the code to reproduce the figures in the [explainer](TK) describing the methods contained in this repo and the dataset they produced."
   ]
  },
  {
   "cell_type": "code",
   "execution_count": null,
   "id": "34871e4f-a167-4c3f-aca9-0d492c072b27",
   "metadata": {
    "tags": []
   },
   "outputs": [],
   "source": [
    "import json\n",
    "\n",
    "import fsspec\n",
    "import geopandas as gpd\n",
    "import numpy as np\n",
    "import xarray as xr"
   ]
  },
  {
   "cell_type": "code",
   "execution_count": null,
   "id": "98cd087a-2f5e-49cb-84ab-b8a67d4443c9",
   "metadata": {
    "tags": []
   },
   "outputs": [],
   "source": [
    "path = \"s3://carbonplan-climate-impacts/extreme-heat/v1.0/inputs/all_regions_and_cities.json\"\n",
    "with fsspec.open(path) as file:\n",
    "    regions_df = gpd.read_file(file)"
   ]
  },
  {
   "cell_type": "code",
   "execution_count": null,
   "id": "0353b7ea-e94a-4393-9e9c-e79d6b165b70",
   "metadata": {
    "tags": []
   },
   "outputs": [],
   "source": [
    "gcm = \"ACCESS-CM2\"\n",
    "city_names = [\n",
    "    \"Bangkok\",\n",
    "    \"Karachi\",\n",
    "    \"Dubai\",\n",
    "    \"Phoenix\",\n",
    "]\n",
    "city_ids = []\n",
    "for city in city_names:\n",
    "    city_ids.append(\n",
    "        regions_df[regions_df[\"UC_NM_MN\"] == city][\"processing_id\"].values[0]\n",
    "    )"
   ]
  },
  {
   "cell_type": "markdown",
   "id": "c1c1799b-a5bd-4e48-abc9-a092f84a5e18",
   "metadata": {},
   "source": [
    "Prepare data for Figure 2"
   ]
  },
  {
   "cell_type": "code",
   "execution_count": null,
   "id": "6c064b73-89b1-40a9-b005-c388ebdd737d",
   "metadata": {
    "tags": []
   },
   "outputs": [],
   "source": [
    "ref = xr.open_zarr(\n",
    "    \"s3://carbonplan-climate-impacts/extreme-heat/v1.0/inputs/wbgt-UHE-daily-historical.zarr/\"\n",
    ")\n",
    "ref = ref.chunk({\"time\": -1, \"processing_id\": 850})"
   ]
  },
  {
   "cell_type": "code",
   "execution_count": null,
   "id": "9cd6e3f8-5a1b-46a6-8550-afc4ddd58435",
   "metadata": {
    "tags": []
   },
   "outputs": [],
   "source": [
    "ts_dict = {}\n",
    "for scenario in [\"historical\", \"ssp245-2030\", \"ssp245-2050\"]:\n",
    "    ts_dict[scenario] = xr.open_zarr(\n",
    "        f\"s3://carbonplan-scratch/extreme-heat/wbgt-shade-regions/{gcm}-{scenario}-bc.zarr\"\n",
    "    ).WBGT.chunk({\"time\": -1})\n",
    "    ts_dict[f\"{scenario}-bc\"] = xr.open_zarr(\n",
    "        f\"s3://carbonplan-scratch/extreme-heat/wbgt-shade-regions/{gcm}-{scenario}-bc.zarr\"\n",
    "    ).scen.chunk({\"time\": -1})"
   ]
  },
  {
   "cell_type": "code",
   "execution_count": null,
   "id": "f7b2feb1-d013-404f-8b21-26ae00eed299",
   "metadata": {
    "tags": []
   },
   "outputs": [],
   "source": [
    "time_slice_dict = {\n",
    "    \"historical\": slice(\"1985\", \"2014\"),\n",
    "    \"ssp245-2030\": slice(\"2020\", \"2039\"),\n",
    "    \"ssp245-2050\": slice(\"2040\", \"2059\"),\n",
    "}"
   ]
  },
  {
   "cell_type": "code",
   "execution_count": null,
   "id": "681af430-873c-479a-9508-72d28f23d908",
   "metadata": {
    "tags": []
   },
   "outputs": [],
   "source": [
    "data_to_plot = {}\n",
    "for city_id, city_name in zip(city_ids, city_names):\n",
    "    city_name = regions_df[regions_df[\"processing_id\"] == city_id][\"UC_NM_MN\"].values[0]\n",
    "    data_to_plot[city_name] = {}\n",
    "    data_to_plot[city_name][\"ref\"] = list(\n",
    "        ref.WBGT.sel(processing_id=city_id)\n",
    "        .sel(time=time_slice_dict[\"historical\"])\n",
    "        .groupby(\"time.dayofyear\")\n",
    "        .mean()\n",
    "        .load()\n",
    "        .values\n",
    "    )\n",
    "    for scenario, time_slice in time_slice_dict.items():\n",
    "        data_to_plot[city_name][scenario] = list(\n",
    "            ts_dict[scenario]\n",
    "            .sel(processing_id=city_id)\n",
    "            .sel(time=time_slice)\n",
    "            .groupby(\"time.dayofyear\")\n",
    "            .mean()\n",
    "            .load()\n",
    "            .values\n",
    "        )\n",
    "        data_to_plot[city_name][scenario + \"-bc\"] = list(\n",
    "            ts_dict[scenario + \"-bc\"]\n",
    "            .sel(processing_id=city_id)\n",
    "            .sel(time=time_slice)\n",
    "            .groupby(\"time.dayofyear\")\n",
    "            .mean()\n",
    "            .load()\n",
    "            .values\n",
    "        )"
   ]
  },
  {
   "cell_type": "code",
   "execution_count": null,
   "id": "dac3ca5e-9944-43b8-8ab2-6615060b41d3",
   "metadata": {
    "tags": []
   },
   "outputs": [],
   "source": [
    "with fsspec.open(\n",
    "    \"s3://carbonplan-climate-impacts/extreme-heat/v1.0/outputs/web/explainer/bias_correction.json\",\n",
    "    \"w\",\n",
    ") as fp:\n",
    "    json.dump(data_to_plot, fp)"
   ]
  },
  {
   "cell_type": "markdown",
   "id": "3b085e71-3ad6-4b84-a10f-4461943bba37",
   "metadata": {
    "tags": []
   },
   "source": [
    "Prepare data for Figure 3"
   ]
  },
  {
   "cell_type": "code",
   "execution_count": null,
   "id": "afeb6117-6eb5-405c-b382-628be28f69f1",
   "metadata": {
    "tags": []
   },
   "outputs": [],
   "source": [
    "gcm = \"ACCESS-CM2\"\n",
    "ts_dict = {}\n",
    "for scenario in [\"historical\", \"ssp245-2030\", \"ssp245-2050\"]:\n",
    "    ts_dict[f\"{scenario}-shade\"] = xr.open_zarr(\n",
    "        tk change to f\"s3://carbonplan-scratch/extreme-heat/wbgt-shade-regions/{gcm}-{scenario}-bc.zarr\"\n",
    "    ).scen.chunk({\"time\": -1})\n",
    "    ts_dict[f\"{scenario}-sun\"] = xr.open_zarr(\n",
    "        tk change to f\"s3://carbonplan-scratch/extreme-heat/wbgt-sun-regions/{gcm}-{scenario}.zarr\"\n",
    "    ).outdoor_WBGT.chunk({\"time\": -1})"
   ]
  },
  {
   "cell_type": "code",
   "execution_count": null,
   "id": "a9904bd8-da5e-4560-b006-593ce4272565",
   "metadata": {
    "tags": []
   },
   "outputs": [],
   "source": [
    "data_to_plot = {}\n",
    "for city_id, city_name in zip(city_ids, city_names):\n",
    "    data_to_plot[city_name] = {}\n",
    "    for variable in [\"shade\", \"sun\"]:\n",
    "        data_to_plot[city_name][f\"historical-{variable}\"] = {}\n",
    "        for year in np.arange(1985, 2015):\n",
    "            data_to_plot[city_name][f\"historical-{variable}\"][str(year)] = list(\n",
    "                ts_dict[f\"historical-{variable}\"]\n",
    "                .sel(processing_id=city_id, time=slice(str(year), str(year)))\n",
    "                .values\n",
    "            )\n",
    "        data_to_plot[city_name][f\"ssp245-2030-{variable}\"] = {}\n",
    "        for year in np.arange(2020, 2040):\n",
    "            data_to_plot[city_name][f\"ssp245-2030-{variable}\"][str(year)] = list(\n",
    "                ts_dict[f\"ssp245-2030-{variable}\"]\n",
    "                .sel(processing_id=city_id, time=slice(str(year), str(year)))\n",
    "                .values\n",
    "            )\n",
    "        data_to_plot[city_name][f\"ssp245-2050-{variable}\"] = {}\n",
    "        for year in np.arange(2040, 2060):\n",
    "            data_to_plot[city_name][f\"ssp245-2050-{variable}\"][str(year)] = list(\n",
    "                ts_dict[f\"ssp245-2050-{variable}\"]\n",
    "                .sel(processing_id=city_id, time=slice(str(year), str(year)))\n",
    "                .values\n",
    "            )"
   ]
  },
  {
   "cell_type": "markdown",
   "id": "942e04cb-7b10-4b31-93d1-4bfd06889463",
   "metadata": {},
   "source": [
    "Prepare data for Figure 4"
   ]
  },
  {
   "cell_type": "code",
   "execution_count": null,
   "id": "46989423-8480-467b-bef0-4e90a7da82fd",
   "metadata": {
    "tags": []
   },
   "outputs": [],
   "source": [
    "cities = regions_df[\n",
    "    (~regions_df[\"ID_HDC_G0\"].isnull() | ~regions_df[\"UACE20\"].isnull())\n",
    "]"
   ]
  },
  {
   "cell_type": "code",
   "execution_count": null,
   "id": "3d22b809-a6e7-448b-ae8d-e3043f4c1da6",
   "metadata": {
    "tags": []
   },
   "outputs": [],
   "source": [
    "scenarios = [\"historical\", \"ssp245-2030\", \"ssp245-2050\"]\n",
    "map_json = {}\n",
    "for variable in [\"WBGT-sun\", \"WBGT-shade\"]:\n",
    "    map_json[variable] = {}\n",
    "    for scenario in scenarios:\n",
    "        map_json[variable][scenario] = {}\n",
    "        ds = xr.open_zarr(\n",
    "            f\"s3://carbonplan-climate-impacts/extreme-heat/v1.0/outputs/zarr/summaries/{scenario}-summaries-{variable}.zarr\"\n",
    "        )\n",
    "        for threshold in [29, 30.5, 32]:\n",
    "            df = (\n",
    "                ds.sel(\n",
    "                    processing_id=cities[\"processing_id\"].values, gcm=\"multimodel_media\"\n",
    "                )[f\"days_exceeding_{threshold}degC\"]\n",
    "                .to_dataframe()\n",
    "                .drop(\"gcm\", axis=1)\n",
    "            )\n",
    "            data = np.squeeze(df.values)\n",
    "            map_json[variable][scenario][str(threshold)] = list(data)"
   ]
  },
  {
   "cell_type": "code",
   "execution_count": null,
   "id": "60b2cf22-43d2-41a6-906f-8012bac08c0d",
   "metadata": {
    "tags": []
   },
   "outputs": [],
   "source": [
    "lon = cities.centroid.x.values\n",
    "lat = cities.centroid.y.values"
   ]
  },
  {
   "cell_type": "code",
   "execution_count": null,
   "id": "44155e03-949c-4164-ab78-04c83a592029",
   "metadata": {
    "tags": []
   },
   "outputs": [],
   "source": [
    "map_json[\"lat\"] = list(lat)\n",
    "map_json[\"lon\"] = list(lon)"
   ]
  },
  {
   "cell_type": "code",
   "execution_count": null,
   "id": "c076edc7-ed45-4d26-a33a-6864be0a23a2",
   "metadata": {
    "tags": []
   },
   "outputs": [],
   "source": [
    "with fsspec.open(\n",
    "    \"s3://carbonplan-climate-impacts/extreme-heat/v1.0/outputs/web/explainer/maps.json\",\n",
    "    \"w\",\n",
    ") as fp:\n",
    "    json.dump(map_json, fp)"
   ]
  }
 ],
 "metadata": {
  "language_info": {
   "codemirror_mode": {
    "name": "ipython",
    "version": 3
   },
   "file_extension": ".py",
   "mimetype": "text/x-python",
   "name": "python",
   "nbconvert_exporter": "python",
   "pygments_lexer": "ipython3",
   "version": "3.10.12"
  }
 },
 "nbformat": 4,
 "nbformat_minor": 5
}
