{
 "cells": [
  {
   "cell_type": "markdown",
   "id": "21c92187-4724-4bf7-90bb-da88381d81f3",
   "metadata": {},
   "source": [
    "# 07: Solar radiation and wind data aggregation\n",
    "*Extract daily solar radiation and wind data for subsequent use in developing WBGT in the sun estimates in `08_shade_sun_adjustment.ipynb`.*"
   ]
  },
  {
   "cell_type": "code",
   "execution_count": null,
   "id": "8776618c-ff37-4450-bbef-efc64611afbf",
   "metadata": {},
   "outputs": [],
   "source": [
    "import logging\n",
    "\n",
    "import dask\n",
    "import numpy as np\n",
    "import pandas as pd\n",
    "import xarray as xr\n",
    "from dask.distributed import Client\n",
    "from metsim.datetime import date_range\n",
    "from metsim.disaggregate import shortwave\n",
    "from metsim.physics import solar_geom\n",
    "from tqdm.notebook import tqdm\n",
    "from utils import (\n",
    "    gcm_list,\n",
    "    gcms_with_nonstandard_calendars_list,\n",
    "    load_nasanex,\n",
    "    prep_sparse,\n",
    "    remove_360_longitudes,\n",
    "    spatial_aggregation,\n",
    ")"
   ]
  },
  {
   "cell_type": "markdown",
   "id": "3be4bc43-69ad-4d41-b369-94628948aef8",
   "metadata": {},
   "source": [
    "Set up cluster to handle multiprocessing using a Dask client."
   ]
  },
  {
   "cell_type": "code",
   "execution_count": null,
   "id": "b89583e7-5d6f-4108-826e-6d4c30c31462",
   "metadata": {},
   "outputs": [],
   "source": [
    "client = Client(threads_per_worker=1, n_workers=64, silence_logs=logging.ERROR)\n",
    "client"
   ]
  },
  {
   "cell_type": "code",
   "execution_count": null,
   "id": "21b8efb8-f7ad-4a8d-baac-25cc3c0f09fe",
   "metadata": {},
   "outputs": [],
   "source": [
    "scenario_years = [\n",
    "    (\"historical\", np.arange(1985, 2015)),\n",
    "    (\"ssp245\", np.arange(2015, 2061)),\n",
    "]"
   ]
  },
  {
   "cell_type": "markdown",
   "id": "2b0fef2f-f5b2-4f1e-abe7-f00d9efe4d95",
   "metadata": {},
   "source": [
    "As in `05_aggregate.ipynb`, aggregate the solar radiation and wind information into population-weighted region averages. Standardize calendars as was done in `06_bias_correction.ipynb`."
   ]
  },
  {
   "cell_type": "code",
   "execution_count": null,
   "id": "c652c4b3-aa0d-4463-8705-8f9b9ca1123e",
   "metadata": {},
   "outputs": [],
   "source": [
    "sample_ds = load_nasanex(\n",
    "    \"historical\", \"ACCESS-CM2\", [\"rsds\", \"sfcWind\"], np.arange(1990, 1991)\n",
    ")\n",
    "population = xr.open_zarr(\n",
    "    \"s3://carbonplan-climate-impacts/extreme-heat/v1.0/inputs/GHS_POP_E2030_GLOBE_R2023A_4326_30ss_V1_0_resampled_to_CP.zarr\"\n",
    ")\n",
    "population = population.rename({\"x\": \"lon\", \"y\": \"lat\"}).drop(\"spatial_ref\")\n",
    "# Calculate sparse weights once to use for all of the data files.\n",
    "sparse_weights, population = prep_sparse(\n",
    "    sample_ds, population, return_population=True, variables_to_drop=[\"rsds\", \"sfcWind\"]\n",
    ")\n",
    "for gcm in gcm_list:\n",
    "    # loop through the gcms and extract the data for each region\n",
    "    extracted_list = []\n",
    "    for scenario, years in scenario_years:\n",
    "        wind_solrad = load_nasanex(scenario, gcm, [\"rsds\", \"sfcWind\"], years)\n",
    "        wind_solrad = remove_360_longitudes(wind_solrad)\n",
    "\n",
    "        # ensure population matches the same lon coords order\n",
    "        assert (population[\"lon\"].values == wind_solrad[\"lon\"].values).all()\n",
    "        assert (population[\"lat\"].values == wind_solrad[\"lat\"].values).all()\n",
    "        assert (\n",
    "            population[\"population\"].values.shape\n",
    "            == wind_solrad[\"rsds\"].isel(time=0).values.shape\n",
    "        )\n",
    "        # aggregate the wind_solrad to regional estimates\n",
    "        extracted_wind_solrad = spatial_aggregation(\n",
    "            wind_solrad, sparse_weights, region_name=\"processing_id\"\n",
    "        )\n",
    "        del wind_solrad\n",
    "        extracted_list.append(extracted_wind_solrad)\n",
    "    extracted_wind_solrad_ds = xr.concat(extracted_list, dim=\"time\")\n",
    "    if gcm in gcms_with_nonstandard_calendars_list:\n",
    "        # convert to standard calendar by filling with nans\n",
    "        extracted_wind_solrad_ds = extracted_wind_solrad_ds.convert_calendar(\n",
    "            \"gregorian\", dim=\"time\", align_on=\"year\", missing=np.nan, use_cftime=None\n",
    "        )\n",
    "        # gap fill by linearly interpolating\n",
    "        extracted_wind_solrad_ds = extracted_wind_solrad_ds.interpolate_na(\n",
    "            dim=\"time\", method=\"linear\"\n",
    "        )\n",
    "    output = f\"s3://carbonplan-scratch/extreme-heat/wind_solrad-regions/{gcm}-wind-solrad-regions.zarr\"\n",
    "    t = extracted_wind_solrad_ds.to_zarr(\n",
    "        output, consolidated=True, mode=\"w\", compute=False\n",
    "    )\n",
    "    t = dask.optimize(t)[0]\n",
    "    t.compute(retries=2)"
   ]
  },
  {
   "cell_type": "markdown",
   "id": "a68b54af-5fb1-4cae-9548-361ba5e6879e",
   "metadata": {},
   "source": [
    "Calculate representative elevation and latitude for each region, which will be used below by `metsim` for solar geometry calculations."
   ]
  },
  {
   "cell_type": "code",
   "execution_count": null,
   "id": "71115e53-6ec8-4dd4-910e-840a9f8aec0d",
   "metadata": {},
   "outputs": [],
   "source": [
    "elev = xr.open_zarr(\n",
    "    \"s3://carbonplan-climate-impacts/extreme-heat/v1.0/inputs/elevation.zarr\"\n",
    ")\n",
    "elev = elev.chunk({\"lat\": -1, \"lon\": -1}).compute()\n",
    "\n",
    "sparse_weights = prep_sparse(\n",
    "    sample_ds, population, return_population=False, variables_to_drop=\"elev\"\n",
    ")\n",
    "elev = remove_360_longitudes(elev)\n",
    "# attach a placeholder time timension\n",
    "elev = elev.expand_dims(dim=\"time\").assign_coords(\n",
    "    {\"time\": pd.date_range(\"2000-01-01\", \"2000-01-01\")}\n",
    ")\n",
    "assert (population[\"lon\"].values == elev[\"lon\"].values).all()\n",
    "assert (population[\"lat\"].values == elev[\"lat\"].values).all()\n",
    "assert (\n",
    "    population[\"population\"].values.shape == elev[\"elevation\"].isel(time=0).values.shape\n",
    ")\n",
    "elev_regions = spatial_aggregation(\n",
    "    elev, sparse_weights, region_name=\"processing_id\"\n",
    ").drop(\"time\")"
   ]
  },
  {
   "cell_type": "code",
   "execution_count": null,
   "id": "cc35e88a-220e-4356-b085-664b63b8689d",
   "metadata": {},
   "outputs": [],
   "source": [
    "lat_ds = xr.Dataset(\n",
    "    {\n",
    "        \"latitude\": xr.DataArray(\n",
    "            data=np.tile(elev.lat.values, (len(elev.lon.values), 1)).transpose(),\n",
    "            coords={\"lat\": elev.lat.values, \"lon\": elev.lon.values},\n",
    "        )\n",
    "    }\n",
    ")\n",
    "# attach a placeholder time dimension\n",
    "lat_ds = lat_ds.expand_dims(dim=\"time\").assign_coords(\n",
    "    {\"time\": pd.date_range(\"2000-01-01\", \"2000-01-01\")}\n",
    ")\n",
    "assert (population[\"lon\"].values == lat_ds[\"lon\"].values).all()\n",
    "assert (population[\"lat\"].values == lat_ds[\"lat\"].values).all()\n",
    "assert (\n",
    "    population[\"population\"].values.shape\n",
    "    == lat_ds[\"latitude\"].isel(time=0).values.shape\n",
    ")\n",
    "lat_regions = spatial_aggregation(\n",
    "    lat_ds, sparse_weights, region_name=\"processing_id\"\n",
    ").drop(\"time\")"
   ]
  },
  {
   "cell_type": "markdown",
   "id": "05255e15-f867-4988-9a1d-9b981bca60f8",
   "metadata": {},
   "source": [
    "Take advantage of utilities in the `metsim` package, developed largely by Andrew Bennett at the University of Arizona. The `solar_geom`, `shortwave`, and `date_range` functions are slightly different from their implementations in the `metsim` package for this use case which focuses solely on solar radiation."
   ]
  },
  {
   "cell_type": "markdown",
   "id": "3fa87604-8479-406f-aae8-dec6f2b71cf9",
   "metadata": {},
   "source": [
    "For each region, use elevation and latitude information calculated above to derive radiation parameters like day length and subdaily maximum solar radiation. This calculation only needs to be done once because, while it varies in time throughout the year for every location, it will be the same for every projection."
   ]
  },
  {
   "cell_type": "code",
   "execution_count": null,
   "id": "bfaca231-8f7e-4dbe-acfe-0c238e6f245f",
   "metadata": {},
   "outputs": [],
   "source": [
    "tiny_rad_fract_list, daylength_list = [], []\n",
    "for processing_id in tqdm(elev_regions.processing_id.values):\n",
    "    sg = solar_geom(\n",
    "        elev_regions.sel(processing_id=processing_id)[\"elevation\"].values[0],\n",
    "        lat_regions.sel(processing_id=processing_id)[\"latitude\"].values[0],\n",
    "        -6.5,\n",
    "    )\n",
    "    tiny_rad_fract_list.append(\n",
    "        xr.DataArray(data=sg[0], dims=(\"dayofyear\", \"tiny_timestep\"))\n",
    "    )\n",
    "    daylength_list.append(xr.DataArray(data=sg[1], dims=(\"dayofyear\")))\n",
    "radiation_parameters = xr.Dataset(\n",
    "    {\n",
    "        \"tiny_rad_fract\": xr.concat(tiny_rad_fract_list, dim=\"processing_id\"),\n",
    "        \"daylength\": xr.concat(daylength_list, dim=\"processing_id\"),\n",
    "    }\n",
    ")\n",
    "radiation_parameters = radiation_parameters.assign_coords(\n",
    "    {\"processing_id\": elev_regions.processing_id.values}\n",
    ")\n",
    "\n",
    "radiation_parameters = radiation_parameters.chunk(\n",
    "    {\"dayofyear\": -1, \"tiny_timestep\": -1, \"processing_id\": 4000}\n",
    ")\n",
    "radiation_parameters.to_zarr(\n",
    "    \"s3://carbonplan-scratch/extreme-heat/wind_solrad-regions/radiation_parameters.zarr\",\n",
    "    mode=\"w\",\n",
    ")\n",
    "radiation_parameters = xr.open_zarr(\n",
    "    \"s3://carbonplan-scratch/extreme-heat/wind_solrad-regions/radiation_parameters.zarr\"\n",
    ")"
   ]
  },
  {
   "cell_type": "markdown",
   "id": "04959f9b-ffc5-4e0e-b586-87a26f471588",
   "metadata": {},
   "source": [
    "Set up a dataframe template to store the data and functions for calculating maximum daily solar radiation from the daily mean solar radiation."
   ]
  },
  {
   "cell_type": "code",
   "execution_count": null,
   "id": "10eeed30-ce4b-4e7a-acd1-0c394066c382",
   "metadata": {
    "tags": []
   },
   "outputs": [],
   "source": [
    "params = {\n",
    "    \"time_step\": 60,\n",
    "    \"method\": \"other\",\n",
    "    \"utc_offset\": False,\n",
    "    \"calendar\": \"gregorian\",\n",
    "}\n",
    "df_daily_template = pd.DataFrame(index=pd.date_range(\"1985-01-01\", \"2060-12-31\"))\n",
    "stop = (\n",
    "    df_daily_template.index[-1]\n",
    "    + pd.Timedelta(\"1 days\")\n",
    "    - pd.Timedelta(\"{} minutes\".format(params[\"time_step\"]))\n",
    ")\n",
    "dates_disagg = date_range(\n",
    "    df_daily_template.index[0],\n",
    "    stop,\n",
    "    freq=\"{}T\".format(params[\"time_step\"]),\n",
    "    calendar=params[\"calendar\"],\n",
    ")\n",
    "df_disagg_template = pd.DataFrame(index=dates_disagg)\n",
    "yday = df_daily_template.index.dayofyear - 1"
   ]
  },
  {
   "cell_type": "code",
   "execution_count": null,
   "id": "34777cba-2f37-46b4-8228-9d761a7c5d9f",
   "metadata": {},
   "outputs": [],
   "source": [
    "def shortwave_wrapper(rsds, daylengths, tiny_rad_fract):\n",
    "    \"\"\"\n",
    "    Wrapper function for shortwave which supports vectorized computation\n",
    "    via `xr.ufunc`\n",
    "    \"\"\"\n",
    "\n",
    "    params = {\n",
    "        \"time_step\": 60,\n",
    "        \"method\": \"other\",\n",
    "        \"utc_offset\": False,\n",
    "        \"calendar\": \"gregorian\",\n",
    "        \"SW_RAD_DT\": 3600,\n",
    "    }\n",
    "    dayofyear = pd.date_range(\"1985-01-01\", \"2060-12-31\").dayofyear.values\n",
    "    shortwave_out = shortwave(rsds, daylengths[yday], dayofyear, tiny_rad_fract, params)\n",
    "    da = xr.DataArray(shortwave_out, dims=[\"hourlytime\"])\n",
    "    da = da.assign_coords(\n",
    "        {\n",
    "            \"hourlytime\": pd.date_range(\n",
    "                \"1985-01-01 00:00:00\", \"2060-12-31 23:00:00\", freq=\"H\"\n",
    "            )\n",
    "        }\n",
    "    )\n",
    "    output = da.resample({\"hourlytime\": \"D\"}).max().data\n",
    "    return output"
   ]
  },
  {
   "cell_type": "markdown",
   "id": "343de162-f276-4cdc-9dd7-2f95eaf6723a",
   "metadata": {},
   "source": [
    "Calculate maximum solar radiation given daily mean solar radiation and radiation parameters (as calculated above). This approach accounts for the cooling effect of clouds but does not capture subdaily variations in cloud cover."
   ]
  },
  {
   "cell_type": "code",
   "execution_count": null,
   "id": "1e7120f6-1444-490e-afc2-8b967107c851",
   "metadata": {},
   "outputs": [],
   "source": [
    "radiation_parameters = radiation_parameters.chunk(\n",
    "    {\"processing_id\": 25, \"tiny_timestep\": -1, \"dayofyear\": -1}\n",
    ")\n",
    "for gcm in gcm_list:\n",
    "    wind_solrad_ds = xr.open_zarr(\n",
    "        f\"s3://carbonplan-scratch/extreme-heat/wind_solrad-regions/{gcm}-wind-solrad-regions.zarr\"\n",
    "    ).persist()\n",
    "    wind_solrad_ds = wind_solrad_ds.chunk({\"processing_id\": 25, \"time\": -1})\n",
    "\n",
    "    max_solrad = xr.apply_ufunc(\n",
    "        shortwave_wrapper,\n",
    "        wind_solrad_ds[\"rsds\"],\n",
    "        radiation_parameters.daylength,\n",
    "        radiation_parameters.tiny_rad_fract,\n",
    "        input_core_dims=[[\"time\"], [\"dayofyear\"], [\"dayofyear\", \"tiny_timestep\"]],\n",
    "        output_core_dims=[[\"time\"]],\n",
    "        vectorize=True,\n",
    "        dask=\"parallelized\",\n",
    "        output_dtypes=[wind_solrad_ds[\"rsds\"].dtype],\n",
    "    )\n",
    "\n",
    "    out_store = f\"s3://carbonplan-scratch/extreme-heat/wind_solrad-regions/{gcm}-rsds-max-regions.zarr\"\n",
    "    max_solrad.to_zarr(out_store, mode=\"w\", consolidated=True)"
   ]
  }
 ],
 "metadata": {
  "language_info": {
   "codemirror_mode": {
    "name": "ipython",
    "version": 3
   },
   "file_extension": ".py",
   "mimetype": "text/x-python",
   "name": "python",
   "nbconvert_exporter": "python",
   "pygments_lexer": "ipython3",
   "version": "3.10.12"
  }
 },
 "nbformat": 4,
 "nbformat_minor": 5
}
