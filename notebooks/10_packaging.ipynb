{
 "cells": [
  {
   "cell_type": "markdown",
   "id": "5de5e4ea-823f-449c-9676-92fb163c5e13",
   "metadata": {
    "tags": []
   },
   "source": [
    "# 10: Package selected statistics into CSV files\n",
    "*Package thresholded summary statistics into CSV files.*"
   ]
  },
  {
   "cell_type": "code",
   "execution_count": null,
   "id": "6a06f736-c795-44d1-ba0b-bb7fed646e82",
   "metadata": {
    "tags": []
   },
   "outputs": [],
   "source": [
    "import fsspec\n",
    "import geopandas as gpd\n",
    "import xarray as xr"
   ]
  },
  {
   "cell_type": "code",
   "execution_count": null,
   "id": "4d41610d-9fa6-4b56-933d-22dd7ce9ffe3",
   "metadata": {
    "tags": []
   },
   "outputs": [],
   "source": [
    "def write_out_csvs(\n",
    "    metric,\n",
    "    regions_df,\n",
    "    variable,\n",
    "    units,\n",
    "    threshold=None,\n",
    "):\n",
    "    \"\"\"\n",
    "    Read in annual maximum and days over threshold summary datasets and write out\"\n",
    "    CSVs for the multimodel medians.\n",
    "    \"\"\"\n",
    "    template_df = regions_df[\n",
    "        [\"ID_HDC_G0\", \"UACE20\", \"hierid\", \"processing_id\"]\n",
    "    ].sort_values(\"processing_id\")\n",
    "    column_variable_name = variable.replace(\"_\", \" \")\n",
    "    ds_var_name = variable\n",
    "    if variable == \"days_over\":\n",
    "        column_variable_name += f\" {threshold} {units}\"\n",
    "        ds_var_name = f\"days_exceeding_{threshold}{units}\"\n",
    "    for scenario in [\"historical\", \"ssp245-2030\", \"ssp245-2050\"]:\n",
    "        results = xr.open_zarr(\n",
    "            f\"s3://carbonplan-climate-impacts/extreme-heat/v1.0/outputs/zarr/summaries/\"\n",
    "            f\"{scenario}-summaries-WBGT-{metric.split('-')[1]}.zarr\"\n",
    "        )\n",
    "        df = (\n",
    "            results.sel(gcm=\"multimodel_media\")\n",
    "            .drop(\"gcm\")[ds_var_name]\n",
    "            .to_dataframe()\n",
    "            .sort_values(\"processing_id\")\n",
    "        )\n",
    "        template_df[f\"{column_variable_name} - CarbonPlan - {scenario}\"] = df[\n",
    "            ds_var_name\n",
    "        ]\n",
    "\n",
    "    data_columns = [\n",
    "        f\"{column_variable_name} - CarbonPlan - historical\",\n",
    "        f\"{column_variable_name} - CarbonPlan - ssp245-2030\",\n",
    "        f\"{column_variable_name} - CarbonPlan - ssp245-2050\",\n",
    "    ]\n",
    "    if variable == \"annual_maximum\":\n",
    "        ~template_df[data_columns].isnull().any(axis=1)\n",
    "    variable_file_name = f\"{variable.replace('_', '-')}\"\n",
    "    if variable == \"days_over\":\n",
    "        variable_file_name += f\"-{threshold}\"\n",
    "    metric_file_name = f\"{metric.split('-')[0].upper()}-{metric.split('-')[1]}\"\n",
    "    # Remove one processing id which was invalid being outside of the domain.\n",
    "    template_df = template_df.set_index(\"processing_id\").drop([26222]).reindex()\n",
    "    out_file_name = (\n",
    "        f\"s3://carbonplan-climate-impacts/extreme-heat/v1.0/outputs/csv/\"\n",
    "        f\"carbonplan-extreme-heat-{column_variable_name.replace(' ', '-')}\"\n",
    "        f\"-{metric_file_name}.csv\"\n",
    "    )\n",
    "    template_df.to_csv(out_file_name, index=False)"
   ]
  },
  {
   "cell_type": "code",
   "execution_count": null,
   "id": "57ecc294-f615-48d7-bc7e-c86f0fa46c9f",
   "metadata": {
    "tags": []
   },
   "outputs": [],
   "source": [
    "def write_out_heatwave_csvs(metric, regions_df, threshold, units):\n",
    "    \"\"\"\n",
    "    Read in heatwave summary datasets and write out CSVs for the multimodel medians.\n",
    "    \"\"\"\n",
    "    template_df = regions_df[\n",
    "        [\"ID_HDC_G0\", \"UACE20\", \"hierid\", \"processing_id\"]\n",
    "    ].sort_values(\"processing_id\")\n",
    "    ds_var_name = f\"heatwave-days-over-{threshold}{units}\"\n",
    "    column_variable_name = ds_var_name.replace(\"-\", \" \") + f\" {units}\"\n",
    "\n",
    "    for scenario in [\"historical\", \"ssp245-2030\", \"ssp245-2050\"]:\n",
    "        results = xr.open_zarr(\n",
    "            f\"s3://carbonplan-climate-impacts/extreme-heat/v1.0/outputs/zarr/summaries/\"\n",
    "            f\"{scenario}-summaries-heatwaves-WBGT-{metric.split('-')[1]}.zarr\"\n",
    "        )\n",
    "        df = (\n",
    "            results.sel(gcm=\"multimodel_media\")\n",
    "            .drop(\"gcm\")[ds_var_name]\n",
    "            .to_dataframe()\n",
    "            .sort_values(\"processing_id\")\n",
    "        )\n",
    "        template_df[f\"{column_variable_name} - CarbonPlan - {scenario}\"] = df[\n",
    "            ds_var_name\n",
    "        ]\n",
    "    metric_file_name = f\"{metric.split('-')[0].upper()}-{metric.split('-')[1]}\"\n",
    "    # drop one region because it does not have input data and thus is NaN\n",
    "    template_df = template_df.set_index(\"processing_id\").drop([26222]).reindex()\n",
    "    out_file_name = (\n",
    "        f\"s3://carbonplan-climate-impacts/extreme-heat/v1.0/outputs/csv/\"\n",
    "        f\"carbonplan-extreme-heat-{column_variable_name.replace(' ', '-')}\"\n",
    "        f\"-{metric_file_name}.csv\"\n",
    "    )\n",
    "    template_df.to_csv(out_file_name, index=False)"
   ]
  },
  {
   "cell_type": "code",
   "execution_count": null,
   "id": "0e433b37-4f40-43bf-a3cb-2930430ef98f",
   "metadata": {
    "tags": []
   },
   "outputs": [],
   "source": [
    "path = (\n",
    "    \"s3://carbonplan-climate-impacts/extreme-heat/v1.0/inputs/\"\n",
    "    \"all_regions_and_cities.json\"\n",
    ")\n",
    "with fsspec.open(path) as file:\n",
    "    regions_df = gpd.read_file(file)\n",
    "sample_ds = xr.open_zarr(\n",
    "    \"s3://carbonplan-scratch/extreme-heat/wbgt-sun-regions/wbgt-sun-ACCESS-CM2.zarr\"\n",
    ")\n",
    "regions_df = regions_df[\n",
    "    regions_df[\"processing_id\"].isin(sample_ds.processing_id.values)\n",
    "]"
   ]
  },
  {
   "cell_type": "markdown",
   "id": "3fffa636-a278-46db-894d-114094c997c6",
   "metadata": {},
   "source": [
    "Write out CSVs summarizing historical and future annual maxima for WBGT in the sun and in the shade."
   ]
  },
  {
   "cell_type": "code",
   "execution_count": null,
   "id": "5be06ad9-3f23-4627-95c2-550d443e1a8b",
   "metadata": {
    "tags": []
   },
   "outputs": [],
   "source": [
    "for metric in [\"wbgt-shade\", \"wbgt-sun\"]:\n",
    "    write_out_csvs(metric, regions_df, \"annual_maximum\", units=\"degC\")"
   ]
  },
  {
   "cell_type": "markdown",
   "id": "634b4ec2-9983-4daf-9410-387fc478e283",
   "metadata": {
    "tags": []
   },
   "source": [
    "Write out CSVs summarizing historical and future days over threshold for WBGT in the sun and in the shade."
   ]
  },
  {
   "cell_type": "code",
   "execution_count": null,
   "id": "a7183b8f-3fdf-44c1-bec7-96ed206fe359",
   "metadata": {
    "tags": []
   },
   "outputs": [],
   "source": [
    "for metric in [\"wbgt-shade\", \"wbgt-sun\"]:\n",
    "    for threshold in [29, 30.5, 32, 35]:\n",
    "        write_out_csvs(\n",
    "            metric, regions_df, \"days_over\", threshold=threshold, units=\"degC\"\n",
    "        )"
   ]
  },
  {
   "cell_type": "markdown",
   "id": "3eac31e5-5524-4191-b88e-2a746cf7fc8b",
   "metadata": {},
   "source": [
    "Write out CSVs summarizing historical and future heatwave days for WBGT in the sun and in the shade according to a set of thresholds."
   ]
  },
  {
   "cell_type": "code",
   "execution_count": null,
   "id": "b9e5065a-9c03-436c-b65e-05e9fc74eef1",
   "metadata": {
    "tags": []
   },
   "outputs": [],
   "source": [
    "for metric in [\"wbgt-shade\", \"wbgt-sun\"]:\n",
    "    for threshold in [29, 30.5, 32, 35]:\n",
    "        write_out_heatwave_csvs(metric, regions_df, threshold=threshold, units=\"degC\")"
   ]
  },
  {
   "cell_type": "code",
   "execution_count": null,
   "id": "1f379648-5487-4985-aa39-61b99fc00e91",
   "metadata": {},
   "outputs": [],
   "source": []
  }
 ],
 "metadata": {
  "language_info": {
   "codemirror_mode": {
    "name": "ipython",
    "version": 3
   },
   "file_extension": ".py",
   "mimetype": "text/x-python",
   "name": "python",
   "nbconvert_exporter": "python",
   "pygments_lexer": "ipython3",
   "version": "3.10.12"
  }
 },
 "nbformat": 4,
 "nbformat_minor": 5
}
