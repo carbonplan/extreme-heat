{
 "cells": [
  {
   "cell_type": "markdown",
   "id": "f0a76b88-6f36-45a7-8bf6-fa87cdde7c73",
   "metadata": {},
   "source": [
    "# 04: Pre-process shapefiles\n",
    "*Create the shapefiles used to aggregate climate data and communicate results.*"
   ]
  },
  {
   "cell_type": "code",
   "execution_count": null,
   "id": "91700ccc-c133-4672-801b-dfc8a7487dc5",
   "metadata": {
    "tags": []
   },
   "outputs": [],
   "source": [
    "import fsspec\n",
    "import geopandas as gpd\n",
    "import pandas as pd"
   ]
  },
  {
   "cell_type": "markdown",
   "id": "0ed27ab2-a0a9-486b-9db7-1592597bc018",
   "metadata": {},
   "source": [
    "Inspired by the UHE-Daily dataset, the primary data product will focus on a set of ~13,000 global human settlements around the world as delineated by the [Global Human Settlement Urban Center Database](https://ghsl.jrc.ec.europa.eu/ghs_stat_ucdb2015mt_r2019a.php). "
   ]
  },
  {
   "cell_type": "code",
   "execution_count": null,
   "id": "31d31141-09b1-422a-bb3f-a8ed8058ebfc",
   "metadata": {
    "tags": []
   },
   "outputs": [],
   "source": [
    "uhe_daily_cities = gpd.read_file(\n",
    "    \"s3://carbonplan-climate-impacts/extreme-heat/v1.0/inputs/GHSL_UCDB/GHS_STAT_UCDB2015MT_GLOBE_R2019A_V1_2.gpkg\"\n",
    ")"
   ]
  },
  {
   "cell_type": "markdown",
   "id": "1c1df470-fecf-4d12-8dbf-3e780f8df188",
   "metadata": {},
   "source": [
    "Expand the list of cities with an additional set of ~2,000 additional locations in the US."
   ]
  },
  {
   "cell_type": "code",
   "execution_count": null,
   "id": "b5bd277c-dc3c-4e2a-aa0e-2967d90229da",
   "metadata": {
    "tags": []
   },
   "outputs": [],
   "source": [
    "additional_cities = gpd.read_file(\n",
    "    \"s3://carbonplan-climate-impacts/extreme-heat/v1.0/inputs/additional_us_cities.gpkg\"\n",
    ")"
   ]
  },
  {
   "cell_type": "markdown",
   "id": "21dcebee-f018-4ee9-9277-cc6c9eba1ede",
   "metadata": {},
   "source": [
    "For some additional analyses of non-urban areas, further expand the list with a set of ~24,000 climatically-similar regions from the Climate Impact Lab (as used in [Rode et al (2021)](https://doi.org/10.1038/s41586-021-03883-8))."
   ]
  },
  {
   "cell_type": "code",
   "execution_count": null,
   "id": "1975906a-041f-4b2c-94a4-44bf4cea8ac7",
   "metadata": {
    "tags": []
   },
   "outputs": [],
   "source": [
    "regions_path = \"s3://carbonplan-climate-impacts/extreme-heat/v1.0/inputs/high-res-regions-simplified.topo.json\"\n",
    "with fsspec.open(regions_path) as file:\n",
    "    regions = gpd.read_file(file)"
   ]
  },
  {
   "cell_type": "code",
   "execution_count": null,
   "id": "200e396b-dd69-4d53-8f47-af2b3ef723c2",
   "metadata": {
    "tags": []
   },
   "outputs": [],
   "source": [
    "regions = regions.set_crs(\"EPSG:4326\")"
   ]
  },
  {
   "cell_type": "markdown",
   "id": "be19b8de-f30d-4df4-823a-1a43f0aa7348",
   "metadata": {},
   "source": [
    "Select out unique identifiers for each of the two city shapefiles."
   ]
  },
  {
   "cell_type": "code",
   "execution_count": null,
   "id": "6ffe2570-d6d4-421f-b625-4ef63c45ea37",
   "metadata": {
    "tags": []
   },
   "outputs": [],
   "source": [
    "all_cities = pd.concat(\n",
    "    [\n",
    "        uhe_daily_cities[[\"ID_HDC_G0\", \"UC_NM_MN\", \"geometry\"]],\n",
    "        additional_cities[[\"UACE20\", \"NAMELSAD20\", \"geometry\"]],\n",
    "    ],\n",
    "    ignore_index=True,\n",
    ")"
   ]
  },
  {
   "cell_type": "markdown",
   "id": "2d3726f1-0f3b-4a3d-a2f3-3167adbcb2a7",
   "metadata": {
    "tags": []
   },
   "source": [
    "Overlay the cities with the regions and take the difference to create regions that do not include the cities. These will often look like donuts, with regions having empty hole(s) where they overlap with cities. These regions will support population-level analyses that aim to separate effects between urban and non-urban areas. There are ~300 regions with no non-city areas and these are dropped from the regions. "
   ]
  },
  {
   "cell_type": "code",
   "execution_count": null,
   "id": "081bade4-6d2a-4997-933b-c2244ee8e429",
   "metadata": {
    "tags": []
   },
   "outputs": [],
   "source": [
    "regions_excluding_cities = regions.overlay(all_cities, how=\"difference\")"
   ]
  },
  {
   "cell_type": "markdown",
   "id": "42f81e83-eacd-4e3f-bc18-730ff667ca04",
   "metadata": {},
   "source": [
    "Combine the cities with the regions-with-cities-excluded into a singled dataset."
   ]
  },
  {
   "cell_type": "code",
   "execution_count": null,
   "id": "92d4f8b4-b11f-442d-94ea-13f2e0ad53e0",
   "metadata": {
    "tags": []
   },
   "outputs": [],
   "source": [
    "all_regions = pd.concat(\n",
    "    [all_cities, regions_excluding_cities[[\"gadmid\", \"hierid\", \"ISO\", \"geometry\"]]],\n",
    "    ignore_index=True,\n",
    ")"
   ]
  },
  {
   "cell_type": "markdown",
   "id": "f4894921-3b63-4bf6-b137-1c46b2755ca9",
   "metadata": {},
   "source": [
    "Make a new unique identifier which will be used in subsequent steps."
   ]
  },
  {
   "cell_type": "code",
   "execution_count": null,
   "id": "947de425-bfb2-4968-80dd-20622998081d",
   "metadata": {
    "tags": []
   },
   "outputs": [],
   "source": [
    "all_regions[\"processing_id\"] = all_regions.index"
   ]
  },
  {
   "cell_type": "code",
   "execution_count": null,
   "id": "a222c4f5-6b66-496f-8b0a-a7c67e58d2b3",
   "metadata": {
    "tags": []
   },
   "outputs": [],
   "source": [
    "all_regions.to_file(\n",
    "    \"s3://carbonplan-climate-impacts/extreme-heat/v1.0/inputs/all_regions_and_cities.json\",\n",
    "    driver=\"GeoJSON\",\n",
    ")"
   ]
  }
 ],
 "metadata": {
  "language_info": {
   "codemirror_mode": {
    "name": "ipython",
    "version": 3
   },
   "file_extension": ".py",
   "mimetype": "text/x-python",
   "name": "python",
   "nbconvert_exporter": "python",
   "pygments_lexer": "ipython3",
   "version": "3.10.11"
  }
 },
 "nbformat": 4,
 "nbformat_minor": 5
}
