{
 "cells": [
  {
   "cell_type": "markdown",
   "id": "0443c47f-b93f-4a70-a2a9-0e5a85dcd89c",
   "metadata": {},
   "source": [
    "# 05: Climate data aggregation\n",
    "*Aggregate gridded WBGT in the shade estimates into region-averaged estimates. Do this for both the reference dataset (UHE-Daily) as well as the climate change projections developed by `02_generate.ipynb`. This code is based on the Pangeo post [Conservative Region Aggregation with Xarray, Geopandas and Sparse](https://discourse.pangeo.io/t/conservative-region-aggregation-with-xarray-geopandas-and-sparse/2715/1) by Ryan Abernathey. Much of the functionality is from the [extended example](https://discourse.pangeo.io/t/conservative-region-aggregation-with-xarray-geopandas-and-sparse/2715/16) by Rich Signell.*"
   ]
  },
  {
   "cell_type": "code",
   "execution_count": null,
   "id": "da2570df",
   "metadata": {
    "tags": []
   },
   "outputs": [],
   "source": [
    "import logging\n",
    "import time\n",
    "\n",
    "import fsspec\n",
    "import geopandas as gpd\n",
    "import numpy as np\n",
    "import pandas as pd\n",
    "import xarray as xr\n",
    "from dask.distributed import Client\n",
    "from utils import gcm_list, prep_sparse, spatial_aggregation"
   ]
  },
  {
   "cell_type": "markdown",
   "id": "256a35bc-e87e-464f-91c0-e0dd4b9a3957",
   "metadata": {},
   "source": [
    "Set up cluster to handle multiprocessing using a Dask client."
   ]
  },
  {
   "cell_type": "code",
   "execution_count": null,
   "id": "01f7aad4-40a0-4097-87a7-677c22402428",
   "metadata": {
    "tags": []
   },
   "outputs": [],
   "source": [
    "client = Client(threads_per_worker=1, n_workers=80)"
   ]
  },
  {
   "cell_type": "markdown",
   "id": "a12c683e-2d58-4157-8ac5-a24e9e69130a",
   "metadata": {},
   "source": [
    "Define functions for the notebook."
   ]
  },
  {
   "cell_type": "code",
   "execution_count": null,
   "id": "9d31ad5d-922c-4166-8ffc-312894b08a85",
   "metadata": {
    "tags": []
   },
   "outputs": [],
   "source": [
    "def load_population(grid_name=\"CarbonPlan\"):\n",
    "    \"\"\"\n",
    "    Load the population data generated in `03_population.ipynb`.\n",
    "    \"\"\"\n",
    "    population_dict = {\n",
    "        \"CHC\": \"s3://carbonplan-climate-impacts/extreme-heat/v1.0/inputs/\"\n",
    "        \"GHS_POP_E2030_GLOBE_R2023A_4326_30ss_V1_0_resampled_to_UHE_daily.zarr\",\n",
    "        \"CarbonPlan\": \"s3://carbonplan-climate-impacts/extreme-heat/v1.0/\"\n",
    "        \"inputs/GHS_POP_E2030_GLOBE_R2023A_4326_30ss_V1_0_resampled_to_CP.zarr\",\n",
    "    }\n",
    "    population = xr.open_zarr(population_dict[grid_name])\n",
    "    population = population.rename({\"x\": \"lon\", \"y\": \"lat\"}).drop(\"spatial_ref\")\n",
    "    return population"
   ]
  },
  {
   "cell_type": "code",
   "execution_count": null,
   "id": "59bc4446-4f30-4e8b-9adc-b87c8a1ab96d",
   "metadata": {
    "tags": []
   },
   "outputs": [],
   "source": [
    "def gen_wget_strings(start_year: int, end_year: int) -> list:\n",
    "    \"\"\"\n",
    "    Access the UHE-daily gridded data product that formed the basis for\n",
    "    Tuholske et al (2021).\n",
    "    \"\"\"\n",
    "    daterange = pd.date_range(f\"{start_year}-01-01\", f\"{end_year}-12-31\")\n",
    "    return [\n",
    "        (\n",
    "            date.strftime(\"%Y.%m.%d\"),\n",
    "            f\"https://data.chc.ucsb.edu/people/cascade/UHE-daily/wbgtmax/\"\n",
    "            f\"{date.strftime('%Y')}/wbgtmax.{date.strftime('%Y.%m.%d')}.tif\",\n",
    "        )\n",
    "        for date in daterange\n",
    "    ]"
   ]
  },
  {
   "cell_type": "code",
   "execution_count": null,
   "id": "c88c61bb-e6a4-45da-8653-8539e9d4b511",
   "metadata": {
    "tags": []
   },
   "outputs": [],
   "source": [
    "def add_time_dim(xda):\n",
    "    \"\"\"\n",
    "    Extract datetime from tiff encoding and create time dimension when fed\n",
    "    into mfdataset.\n",
    "    \"\"\"\n",
    "    xda = xda.expand_dims(\n",
    "        time=[np.datetime64(\"-\".join(xda.encoding[\"source\"].split(\".\")[-4:-1]))]\n",
    "    )\n",
    "    return xda"
   ]
  },
  {
   "cell_type": "code",
   "execution_count": null,
   "id": "e92591a4-1d3d-4548-8ba4-3670d2f06e08",
   "metadata": {
    "tags": []
   },
   "outputs": [],
   "source": [
    "def load_uhedaily_ds(start_year, end_year):\n",
    "    \"\"\"\n",
    "    Load in the UHE-daily dataset.\n",
    "    \"\"\"\n",
    "    strings = gen_wget_strings(start_year, end_year)\n",
    "    subset = [i[1] for i in strings]\n",
    "    ds = (\n",
    "        xr.open_mfdataset(\n",
    "            subset,\n",
    "            engine=\"rasterio\",\n",
    "            chunks={},\n",
    "            parallel=True,\n",
    "            concat_dim=\"time\",\n",
    "            combine=\"nested\",\n",
    "            preprocess=add_time_dim,\n",
    "        )\n",
    "        .squeeze(dim=[\"band\"], drop=True)\n",
    "        .drop(\"spatial_ref\")\n",
    "        .rename({\"band_data\": \"WBGT\", \"x\": \"lon\", \"y\": \"lat\"})\n",
    "        .sortby(\"lat\")\n",
    "    )\n",
    "    return ds"
   ]
  },
  {
   "cell_type": "code",
   "execution_count": null,
   "id": "2f181430",
   "metadata": {
    "tags": []
   },
   "outputs": [],
   "source": [
    "def load_ds(gcm, scenario, years):\n",
    "    \"\"\"\n",
    "    Load in the gridded WBGT in the shade estimates from `02_generate.ipynb`.\n",
    "    \"\"\"\n",
    "    with dask.config.set(**{\"array.slicing.split_large_chunks\": False}):\n",
    "        stores = [\n",
    "            f's3://carbonplan-scratch/extreme-heat/wbgt-shade-gridded/years/{gcm}/{gcm}-{scenario.split('-')[0]}-{year}.zarr'\n",
    "            for year in years\n",
    "        ]\n",
    "        ds = xr.open_mfdataset(stores, engine=\"zarr\", chunks={})\n",
    "        ds = ds.assign_coords(lon=(((ds[lon] + 180) % 360) - 180)).sortby(lon)\n",
    "    return ds"
   ]
  },
  {
   "cell_type": "code",
   "execution_count": null,
   "id": "a5fd1f15-d49e-4256-b3ee-61e51879711e",
   "metadata": {
    "tags": []
   },
   "outputs": [],
   "source": [
    "def load_regions():\n",
    "    \"\"\"\n",
    "    Load in the city and regions that to use for aggregation.\n",
    "    \"\"\"\n",
    "    path = \"s3://carbonplan-climate-impacts/extreme-heat/v1.0/inputs/all_regions_and_cities.json\"\n",
    "    with fsspec.open(path) as file:\n",
    "        regions_df = gpd.read_file(file)\n",
    "\n",
    "    regions_df.crs = \"epsg:4326\"\n",
    "    # use an area-preserving projection\n",
    "    crs_area = \"ESRI:53034\"\n",
    "    regions_df = regions_df.to_crs(crs_area)\n",
    "    return regions_df"
   ]
  },
  {
   "cell_type": "code",
   "execution_count": null,
   "id": "c7cc9666",
   "metadata": {
    "tags": []
   },
   "outputs": [],
   "source": [
    "lon = \"lon\"\n",
    "lat = \"lat\"\n",
    "scenario_years = {\n",
    "    \"historical\": np.arange(1985, 2015),\n",
    "    \"ssp245\": np.arange(2015, 2061),\n",
    "}"
   ]
  },
  {
   "cell_type": "code",
   "execution_count": null,
   "id": "a22628b0-3b4d-417a-8513-8c3436a465d2",
   "metadata": {
    "tags": []
   },
   "outputs": [],
   "source": [
    "regions_df = load_regions()\n",
    "bbox = tuple(regions_df.total_bounds)"
   ]
  },
  {
   "cell_type": "markdown",
   "id": "903d0484-7d0f-410d-a1ec-9b7f11ef834a",
   "metadata": {},
   "source": [
    "Access the gridded UHE-Daily data from Tuholske et al (2021) and extract timeseries for the regions of interest. These will form the reference dataset for `06_bias_correction.ipynb`. Thanks to Cascade Tuholske (Montana State University) and Pete Peterson (University of California, Santa Barbara) for making the gridded dataset available. The source gridded dataset may not remain available indefinitely, but the full city- and region-aggregated version is available here alongside the other inputs for the analysis, maintaining reproducibility of the project. \n",
    "\n",
    "The next steps aggregate the gridded datasets to region-average estimates. The non-city regions encompass all land area and thus sometimes include significant stretches of uninhabited land with potentially erroneously high or low temperatures (e.g., deserts). Weighting the aggregation by a gridded population product helps ensure that the estimates are human-relevant."
   ]
  },
  {
   "cell_type": "markdown",
   "id": "c84926d7-4bac-4602-808a-a0fc1f8af518",
   "metadata": {},
   "source": [
    "Load the UHE-Daily dataset and calculate weights."
   ]
  },
  {
   "cell_type": "code",
   "execution_count": null,
   "id": "2e6cc78e-41ba-4a4d-896c-f2928b03d4d9",
   "metadata": {},
   "outputs": [],
   "source": [
    "ds = load_uhedaily_ds(1983, 2016)\n",
    "fp = \"s3://carbonplan-climate-impacts/extreme-heat/v1.0/inputs/wbgt-UHE-daily-historical.zarr\"\n",
    "ds = ds.sel(lon=slice(bbox[0], bbox[2]), lat=slice(bbox[1], bbox[3]))\n",
    "population = load_population(grid_name=\"CHC\")\n",
    "population = population.sel(lon=slice(bbox[0], bbox[2]), lat=slice(bbox[1], bbox[3]))\n",
    "sparse_weights, population = prep_sparse(\n",
    "    ds, population, regions_df, return_population=True, variables_to_drop=[\"WBGT\"]\n",
    ")"
   ]
  },
  {
   "cell_type": "markdown",
   "id": "bae6c48a-0121-41df-aecc-d5c412012fb2",
   "metadata": {
    "tags": []
   },
   "source": [
    "Use weights to aggregate gridded estimates into region-average estimates."
   ]
  },
  {
   "cell_type": "code",
   "execution_count": null,
   "id": "39e9d097-e631-4972-95f7-d21e7075eb0a",
   "metadata": {},
   "outputs": [],
   "source": [
    "variables_to_drop = [\"WBGT\"]\n",
    "sample_time_slice = ds.isel(time=0)[\"WBGT\"].load()\n",
    "regridded = spatial_aggregation(ds, sparse_weights, \"processing_id\", load=False)\n",
    "regridded = regridded.chunk(chunks={\"time\": -1, \"processing_id\": 1000})\n",
    "logging.info(f\"{time.ctime()}: Adjusting time dtype\")\n",
    "regridded_dt = regridded.assign_coords(\n",
    "    {\"time\": regridded.time.astype(\"datetime64[ns]\")}\n",
    ")\n",
    "logging.info(f\"{time.ctime()}: Writing Zarr store\")\n",
    "regridded_dt.to_zarr(fp, consolidated=True, mode=\"w\")"
   ]
  },
  {
   "cell_type": "markdown",
   "id": "8efe916d-6e8a-4e3d-81aa-7126933f6665",
   "metadata": {},
   "source": [
    "Repeat the above process but for our gridded WBGT estimates developed in `02_generate.ipynb`. "
   ]
  },
  {
   "cell_type": "markdown",
   "id": "b220fbf6-71e4-463c-b3cc-ad28a896c56d",
   "metadata": {},
   "source": [
    "Load a sample dataset as a template to calculate weights. The same weights can be used for every projection because all GCMs are on the same 0.25 degree grid."
   ]
  },
  {
   "cell_type": "code",
   "execution_count": null,
   "id": "af4ed545-4fca-468c-987a-5f54d75a9948",
   "metadata": {
    "tags": []
   },
   "outputs": [],
   "source": [
    "ds = load_ds(\"ACCESS-CM2\", \"historical\", np.arange(1985, 1986))\n",
    "ds = ds.sel(lon=slice(bbox[0], bbox[2]), lat=slice(bbox[1], bbox[3]))\n",
    "population = load_population(grid_name=\"CarbonPlan\")\n",
    "population = population.sel(lon=slice(bbox[0], bbox[2]), lat=slice(bbox[1], bbox[3]))\n",
    "sparse_weights, population = prep_sparse(\n",
    "    ds, population, regions_df, return_population=True, variables_to_drop=[\"WBGT\"]\n",
    ")"
   ]
  },
  {
   "cell_type": "markdown",
   "id": "1a2234b6-ceba-4270-b2c5-788f820d496f",
   "metadata": {},
   "source": [
    "Aggregate all gridded estimates into region-average estimates."
   ]
  },
  {
   "cell_type": "code",
   "execution_count": null,
   "id": "cc037731-36c2-450e-a05d-812609b51d57",
   "metadata": {
    "tags": []
   },
   "outputs": [],
   "source": [
    "for gcm in gcm_list:\n",
    "    for scenario in [\"historical\", \"ssp245\"]:\n",
    "        logging.info(f\"Starting: {time.ctime()}: {gcm}-{scenario}\")\n",
    "        ds = load_ds(gcm, scenario, scenario_years[scenario])\n",
    "        ds = ds.sel(lon=slice(bbox[0], bbox[2]), lat=slice(bbox[1], bbox[3]))\n",
    "        population = population.sel(\n",
    "            lon=slice(bbox[0], bbox[2]), lat=slice(bbox[1], bbox[3])\n",
    "        )\n",
    "        sample_time_slice = ds.isel(time=0)[\"WBGT\"].load()\n",
    "\n",
    "        regridded = spatial_aggregation(ds, sparse_weights, \"processing_id\", load=False)\n",
    "        regridded = regridded.chunk(chunks={\"time\": -1, \"processing_id\": 100})\n",
    "        fp = f\"s3://carbonplan-scratch/extreme-heat/wbgt-shade-regions/{gcm}-{scenario}.zarr\"\n",
    "        logging.info(f\"Writing: {time.ctime()}: {fp}\")\n",
    "        regridded.to_zarr(fp, consolidated=True, mode=\"w\")"
   ]
  }
 ],
 "metadata": {
  "language_info": {
   "codemirror_mode": {
    "name": "ipython",
    "version": 3
   },
   "file_extension": ".py",
   "mimetype": "text/x-python",
   "name": "python",
   "nbconvert_exporter": "python",
   "pygments_lexer": "ipython3",
   "version": "3.10.11"
  }
 },
 "nbformat": 4,
 "nbformat_minor": 5
}
